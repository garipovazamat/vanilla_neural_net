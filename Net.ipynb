{
 "cells": [
  {
   "cell_type": "markdown",
   "metadata": {},
   "source": [
    "### Импортим сторонние библиотеки"
   ]
  },
  {
   "cell_type": "code",
   "execution_count": 6,
   "metadata": {},
   "outputs": [],
   "source": [
    "import numpy as np\n",
    "import matplotlib.pyplot as plt\n",
    "%matplotlib inline"
   ]
  },
  {
   "cell_type": "markdown",
   "metadata": {},
   "source": [
    "### Импортим наши модули"
   ]
  },
  {
   "cell_type": "code",
   "execution_count": 3,
   "metadata": {},
   "outputs": [],
   "source": [
    "from dataset import load_svhn, random_split_train_val\n",
    "from model import TwoLayerNet\n",
    "from trainer import Trainer, Dataset\n",
    "from optim import SGD\n",
    "from metrics import multiclass_accuracy"
   ]
  },
  {
   "cell_type": "markdown",
   "metadata": {},
   "source": [
    "### Подготавливаем тренировочные и проверочные данные"
   ]
  },
  {
   "cell_type": "code",
   "execution_count": 4,
   "metadata": {},
   "outputs": [],
   "source": [
    "def prepare_for_neural_network(train_X, test_X):\n",
    "    train_flat = train_X.reshape(train_X.shape[0], -1).astype(np.float) / 255.0\n",
    "    test_flat = test_X.reshape(test_X.shape[0], -1).astype(np.float) / 255.0\n",
    "    \n",
    "    mean_image = np.mean(train_flat, axis = 0)\n",
    "    train_flat -= mean_image\n",
    "    test_flat -= mean_image\n",
    "    \n",
    "    return train_flat, test_flat\n",
    "    \n",
    "train_X, train_y, test_X, test_y = load_svhn(\"data\", max_train=10000, max_test=1000)    \n",
    "train_X, test_X = prepare_for_neural_network(train_X, test_X)\n",
    "train_X, train_y, val_X, val_y = random_split_train_val(train_X, train_y, num_val = 1000)"
   ]
  },
  {
   "cell_type": "markdown",
   "metadata": {},
   "source": [
    "### Посмотрим как они выглядят\n",
    "train_X двухмерный массив, каждая строка - пиксели картинки с числом"
   ]
  },
  {
   "cell_type": "code",
   "execution_count": 9,
   "metadata": {},
   "outputs": [
    {
     "data": {
      "text/plain": [
       "array([[-0.08975373, -0.03568431,  0.08994824, ..., -0.12654745,\n",
       "        -0.03998549,  0.09710392],\n",
       "       [ 0.01612863,  0.01921765,  0.05465412, ..., -0.15007686,\n",
       "        -0.13410314, -0.10681765],\n",
       "       [-0.25445961, -0.32980196, -0.36887529, ..., -0.16968471,\n",
       "        -0.20469137, -0.23230784],\n",
       "       ...,\n",
       "       [ 0.38083451,  0.36823725,  0.36053647, ...,  0.21462902,\n",
       "         0.23060275,  0.21867255],\n",
       "       [-0.2426949 , -0.22391961, -0.12965961, ..., -0.11478275,\n",
       "        -0.14194627, -0.13034706],\n",
       "       [ 0.01220706,  0.02706078,  0.18798745, ...,  0.09306039,\n",
       "         0.06981843,  0.10886863]])"
      ]
     },
     "execution_count": 9,
     "metadata": {},
     "output_type": "execute_result"
    }
   ],
   "source": [
    "train_X"
   ]
  },
  {
   "cell_type": "markdown",
   "metadata": {},
   "source": [
    "Количество пикселей одной картинки - 3072 (картинка размером 32 X 32 X 3), и количество картинок 9000"
   ]
  },
  {
   "cell_type": "code",
   "execution_count": 12,
   "metadata": {},
   "outputs": [
    {
     "data": {
      "text/plain": [
       "(9000, 3072)"
      ]
     },
     "execution_count": 12,
     "metadata": {},
     "output_type": "execute_result"
    }
   ],
   "source": [
    "train_X.shape"
   ]
  },
  {
   "cell_type": "markdown",
   "metadata": {},
   "source": [
    "train_y - одномерный массив с ответом для каждой строки train_X"
   ]
  },
  {
   "cell_type": "code",
   "execution_count": 10,
   "metadata": {},
   "outputs": [
    {
     "data": {
      "text/plain": [
       "array([9, 9, 2, ..., 4, 2, 7], dtype=uint8)"
      ]
     },
     "execution_count": 10,
     "metadata": {},
     "output_type": "execute_result"
    }
   ],
   "source": [
    "train_y"
   ]
  },
  {
   "cell_type": "code",
   "execution_count": 13,
   "metadata": {},
   "outputs": [
    {
     "data": {
      "text/plain": [
       "(9000,)"
      ]
     },
     "execution_count": 13,
     "metadata": {},
     "output_type": "execute_result"
    }
   ],
   "source": [
    "train_y.shape"
   ]
  },
  {
   "cell_type": "markdown",
   "metadata": {},
   "source": [
    "### Посмотрим как выглядит модель нейронной сети\n",
    "TwoLayerNet - класс полносвязной нейронной сети из двух слоев.  \n",
    "Число нейронов в первом слое (скрытом) будет 100, во втором (выходном) слое 10 нейронов"
   ]
  },
  {
   "cell_type": "code",
   "execution_count": 15,
   "metadata": {},
   "outputs": [
    {
     "data": {
      "text/plain": [
       "<model.TwoLayerNet at 0x7ff36135ef98>"
      ]
     },
     "execution_count": 15,
     "metadata": {},
     "output_type": "execute_result"
    }
   ],
   "source": [
    "model = TwoLayerNet(n_input = train_X.shape[1], n_output = 10, hidden_layer_size = 100)"
   ]
  },
  {
   "cell_type": "markdown",
   "metadata": {},
   "source": [
    "В параметрах layer1 и layer2 хранятся слои  \n",
    "W - это веса слоя, в каждой строке веса соответствующего нейрона, вначале у них рандомные значения"
   ]
  },
  {
   "cell_type": "code",
   "execution_count": 18,
   "metadata": {},
   "outputs": [
    {
     "data": {
      "text/plain": [
       "array([[-3.89072467e-04, -5.04011031e-04,  1.15520985e-03, ...,\n",
       "         7.64432541e-04,  7.07017974e-04, -1.77692213e-04],\n",
       "       [ 4.48590040e-04, -1.69653230e-03,  1.27763739e-03, ...,\n",
       "         1.04908135e-04, -1.21518254e-03,  2.00166751e-03],\n",
       "       [ 3.89009280e-04, -1.35102173e-03, -6.00856144e-04, ...,\n",
       "        -7.85938322e-04,  9.65577158e-04, -9.67594241e-04],\n",
       "       ...,\n",
       "       [-2.83181641e-05, -5.53340066e-04,  1.84739352e-03, ...,\n",
       "        -9.37418390e-04,  7.55682260e-04, -7.13510969e-04],\n",
       "       [ 6.88473869e-04,  2.68522711e-04,  2.16869182e-03, ...,\n",
       "         1.08176205e-05,  1.73939684e-05,  1.07359477e-03],\n",
       "       [-3.88108559e-05, -1.64988007e-03, -3.91306651e-05, ...,\n",
       "         2.53242686e-04, -1.22137076e-03,  9.85888496e-05]])"
      ]
     },
     "execution_count": 18,
     "metadata": {},
     "output_type": "execute_result"
    }
   ],
   "source": [
    "model.layer1.W.value"
   ]
  },
  {
   "cell_type": "code",
   "execution_count": 22,
   "metadata": {},
   "outputs": [
    {
     "data": {
      "text/plain": [
       "(3072, 100)"
      ]
     },
     "execution_count": 22,
     "metadata": {},
     "output_type": "execute_result"
    }
   ],
   "source": [
    "model.layer1.W.value.shape"
   ]
  },
  {
   "cell_type": "code",
   "execution_count": 23,
   "metadata": {},
   "outputs": [
    {
     "data": {
      "text/plain": [
       "(100, 10)"
      ]
     },
     "execution_count": 23,
     "metadata": {},
     "output_type": "execute_result"
    }
   ],
   "source": [
    "model.layer2.W.value.shape"
   ]
  },
  {
   "cell_type": "markdown",
   "metadata": {},
   "source": [
    "Выполним прямой и обратный проход первой картинки, и посчитаем градиенты на каждом слое для каждого нейрона  \n",
    "Посмотрим для примера как выглядит градиент для первого слоя"
   ]
  },
  {
   "cell_type": "code",
   "execution_count": 28,
   "metadata": {},
   "outputs": [
    {
     "data": {
      "text/plain": [
       "array([[ 0.00000000e+00,  0.00000000e+00,  3.80934369e-08, ...,\n",
       "        -7.54366120e-08,  4.73753975e-08,  0.00000000e+00],\n",
       "       [ 0.00000000e+00,  0.00000000e+00,  1.51452003e-08, ...,\n",
       "        -2.99921114e-08,  1.88355251e-08,  0.00000000e+00],\n",
       "       [ 0.00000000e+00,  0.00000000e+00, -3.81759911e-08, ...,\n",
       "         7.56000945e-08, -4.74780671e-08,  0.00000000e+00],\n",
       "       ...,\n",
       "       [ 0.00000000e+00,  0.00000000e+00,  5.37094957e-08, ...,\n",
       "        -1.06361167e-07,  6.67965119e-08,  0.00000000e+00],\n",
       "       [ 0.00000000e+00,  0.00000000e+00,  1.69707133e-08, ...,\n",
       "        -3.36071834e-08,  2.11058481e-08,  0.00000000e+00],\n",
       "       [ 0.00000000e+00,  0.00000000e+00, -4.12130202e-08, ...,\n",
       "         8.16143376e-08, -5.12551079e-08,  0.00000000e+00]])"
      ]
     },
     "execution_count": 28,
     "metadata": {},
     "output_type": "execute_result"
    }
   ],
   "source": [
    "model.compute_loss_and_gradients(train_X[0:1], train_y[0:1])\n",
    "model.layer1.W.grad"
   ]
  },
  {
   "cell_type": "code",
   "execution_count": 32,
   "metadata": {},
   "outputs": [
    {
     "data": {
      "text/plain": [
       "(3072, 100)"
      ]
     },
     "execution_count": 32,
     "metadata": {},
     "output_type": "execute_result"
    }
   ],
   "source": [
    "model.layer1.W.grad.shape"
   ]
  },
  {
   "cell_type": "markdown",
   "metadata": {},
   "source": [
    "### Обучение с оценкой качества на каждой эпохе  \n",
    "Выполняю полное обучение на всех данных, пересчитывая градиенты в 30 итераций (эпох) обучая на всех батчах размером 100 картинок в каждой итерации  \n",
    "Кроме подсчета loss внутри нейронки, считаю отдельно долю верных ответов на каждый батч и усредняю для эпохи  \n",
    "learning_rate - размер шага, с которым смещаем веса после посчета градиентов"
   ]
  },
  {
   "cell_type": "code",
   "execution_count": 33,
   "metadata": {},
   "outputs": [
    {
     "name": "stdout",
     "output_type": "stream",
     "text": [
      "Loss: 57.234773, Train accuracy: 0.360444, val accuracy: 0.372000\n",
      "Loss: 41.479199, Train accuracy: 0.496556, val accuracy: 0.508000\n",
      "Loss: 26.356709, Train accuracy: 0.627556, val accuracy: 0.604000\n",
      "Loss: 33.991876, Train accuracy: 0.622000, val accuracy: 0.608000\n",
      "Loss: 29.939324, Train accuracy: 0.694111, val accuracy: 0.645000\n",
      "Loss: 34.788896, Train accuracy: 0.702222, val accuracy: 0.651000\n",
      "Loss: 31.063987, Train accuracy: 0.713444, val accuracy: 0.667000\n",
      "Loss: 19.710788, Train accuracy: 0.731000, val accuracy: 0.676000\n",
      "Loss: 30.725194, Train accuracy: 0.715667, val accuracy: 0.654000\n",
      "Loss: 28.663691, Train accuracy: 0.787333, val accuracy: 0.706000\n",
      "Loss: 30.053167, Train accuracy: 0.776778, val accuracy: 0.684000\n",
      "Loss: 34.369416, Train accuracy: 0.781889, val accuracy: 0.694000\n",
      "Loss: 29.110675, Train accuracy: 0.731667, val accuracy: 0.651000\n",
      "Loss: 26.078125, Train accuracy: 0.762111, val accuracy: 0.669000\n",
      "Loss: 20.310482, Train accuracy: 0.817111, val accuracy: 0.720000\n",
      "Loss: 28.998434, Train accuracy: 0.759667, val accuracy: 0.677000\n",
      "Loss: 19.588881, Train accuracy: 0.837778, val accuracy: 0.720000\n",
      "Loss: 17.852523, Train accuracy: 0.786778, val accuracy: 0.672000\n",
      "Loss: 10.545984, Train accuracy: 0.823111, val accuracy: 0.702000\n",
      "Loss: 17.866285, Train accuracy: 0.833222, val accuracy: 0.712000\n",
      "Loss: 20.867336, Train accuracy: 0.861889, val accuracy: 0.719000\n",
      "Loss: 27.806022, Train accuracy: 0.851222, val accuracy: 0.723000\n",
      "Loss: 12.592929, Train accuracy: 0.844111, val accuracy: 0.703000\n",
      "Loss: 29.100407, Train accuracy: 0.867222, val accuracy: 0.716000\n",
      "Loss: 26.929791, Train accuracy: 0.853444, val accuracy: 0.706000\n",
      "Loss: 16.442624, Train accuracy: 0.854889, val accuracy: 0.721000\n",
      "Loss: 12.891906, Train accuracy: 0.882111, val accuracy: 0.731000\n",
      "Loss: 21.178596, Train accuracy: 0.841889, val accuracy: 0.695000\n",
      "Loss: 18.506427, Train accuracy: 0.867667, val accuracy: 0.706000\n",
      "Loss: 6.057765, Train accuracy: 0.882778, val accuracy: 0.719000\n"
     ]
    }
   ],
   "source": [
    "model = TwoLayerNet(n_input = train_X.shape[1], n_output = 10, hidden_layer_size = 100)\n",
    "dataset = Dataset(train_X, train_y, val_X, val_y)\n",
    "trainer = Trainer(model, dataset, SGD(), learning_rate = 1e-2, num_epochs=30, batch_size=30)\n",
    "\n",
    "loss_history, train_history, val_history = trainer.fit()"
   ]
  },
  {
   "cell_type": "markdown",
   "metadata": {},
   "source": [
    "На графиках вывожу долю верных ответов для обучающей выборки и тестовой"
   ]
  },
  {
   "cell_type": "code",
   "execution_count": 34,
   "metadata": {},
   "outputs": [
    {
     "data": {
      "text/plain": [
       "[<matplotlib.lines.Line2D at 0x7ff3612b9d68>]"
      ]
     },
     "execution_count": 34,
     "metadata": {},
     "output_type": "execute_result"
    },
    {
     "data": {
      "image/png": "[encoded data removed]",
      "text/plain": [
       "<Figure size 432x288 with 1 Axes>"
      ]
     },
     "metadata": {
      "needs_background": "light"
     },
     "output_type": "display_data"
    }
   ],
   "source": [
    "plt.plot(train_history)\n",
    "plt.plot(val_history)"
   ]
  },
  {
   "cell_type": "markdown",
   "metadata": {},
   "source": [
    "Это как уменьшалась loss внутри нейронки во время обучения"
   ]
  },
  {
   "cell_type": "code",
   "execution_count": 35,
   "metadata": {},
   "outputs": [
    {
     "data": {
      "text/plain": [
       "[<matplotlib.lines.Line2D at 0x7ff35f153978>]"
      ]
     },
     "execution_count": 35,
     "metadata": {},
     "output_type": "execute_result"
    },
    {
     "data": {
      "image/png": "[encoded data removed]",
      "text/plain": [
       "<Figure size 432x288 with 1 Axes>"
      ]
     },
     "metadata": {
      "needs_background": "light"
     },
     "output_type": "display_data"
    }
   ],
   "source": [
    "plt.plot(loss_history)"
   ]
  }
 ],
 "metadata": {
  "kernelspec": {
   "display_name": "Python 3",
   "language": "python",
   "name": "python3"
  },
  "language_info": {
   "codemirror_mode": {
    "name": "ipython",
    "version": 3
   },
   "file_extension": ".py",
   "mimetype": "text/x-python",
   "name": "python",
   "nbconvert_exporter": "python",
   "pygments_lexer": "ipython3",
   "version": "3.6.7"
  }
 },
 "nbformat": 4,
 "nbformat_minor": 2
}
